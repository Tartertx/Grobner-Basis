{
 "cells": [
  {
   "cell_type": "markdown",
   "id": "6aed7d97",
   "metadata": {},
   "source": [
    "This is to test out a general Grobner basis in python using Sage."
   ]
  }
 ],
 "metadata": {
  "language_info": {
   "name": "python"
  }
 },
 "nbformat": 4,
 "nbformat_minor": 5
}
