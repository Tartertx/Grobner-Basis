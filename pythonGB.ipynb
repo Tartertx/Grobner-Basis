{
 "cells": [
  {
   "cell_type": "markdown",
   "id": "6aed7d97",
   "metadata": {},
   "source": [
    "This is to test out a general Grobner basis in python using Sympy and Sage."
   ]
  },
  {
   "cell_type": "code",
   "execution_count": 48,
   "id": "543b5e2e",
   "metadata": {},
   "outputs": [
    {
     "name": "stdout",
     "output_type": "stream",
     "text": [
      "What is the Grobner basis of the ideal? [x - y**2, y**4 - y**2 - 1]\n",
      "Does the ideal contain x**2 - y**2?  False\n",
      "What is the ideal mod <x**2 - y**2>? <(1,)>\n",
      "Is the ideal zero dimensional? True\n"
     ]
    }
   ],
   "source": [
    "# get sympy libraries\n",
    "from sympy import symbols, groebner\n",
    "\n",
    "# set symbols\n",
    "x, y = symbols('x y')\n",
    "\n",
    "# get grobner basis\n",
    "G = groebner([x*y**2 -x- 1, y**2 - x], x, y, order='lex', domain='QQ') \n",
    "\n",
    "# types of domains:\n",
    "# QQ = rationals\n",
    "# GF(k) = finite field of k elements\n",
    "# GF(p, k, modulus=None, symmetric=True) = p^k\n",
    "\n",
    "# get the list of polynomials\n",
    "polys = list(G)\n",
    "print(f'What is the Grobner basis of the ideal? {polys}')\n",
    "\n",
    "# testing out some features\n",
    "f = x**2 - y**2\n",
    "print(f'Does the ideal contain {f}?  {G.contains(f)}')\n",
    "print(f'What is the ideal mod <{f}>? <{G.reduce(f)[1:]}>')\n",
    "print(f'Is the ideal zero dimensional? {G.is_zero_dimensional}')"
   ]
  }
 ],
 "metadata": {
  "kernelspec": {
   "display_name": "Python 3",
   "language": "python",
   "name": "python3"
  },
  "language_info": {
   "codemirror_mode": {
    "name": "ipython",
    "version": 3
   },
   "file_extension": ".py",
   "mimetype": "text/x-python",
   "name": "python",
   "nbconvert_exporter": "python",
   "pygments_lexer": "ipython3",
   "version": "3.12.10"
  }
 },
 "nbformat": 4,
 "nbformat_minor": 5
}
