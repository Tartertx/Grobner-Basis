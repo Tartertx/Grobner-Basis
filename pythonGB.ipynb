{
 "cells": [
  {
   "cell_type": "markdown",
   "id": "6aed7d97",
   "metadata": {},
   "source": [
    "This is to test out a general Grobner basis in python using Sympy and Sage."
   ]
  },
  {
   "cell_type": "code",
   "execution_count": null,
   "id": "543b5e2e",
   "metadata": {},
   "outputs": [
    {
     "name": "stdout",
     "output_type": "stream",
     "text": [
      "Does the ideal contain x**2*y + y?  False\n",
      "What is the ideal mod x**2*y + y? ([x*y + y**3, y**2], y**2 + y)\n",
      "Is the ideal zero dimensional? True\n"
     ]
    }
   ],
   "source": [
    "# get sympy libraries\n",
    "from sympy import symbols, groebner\n",
    "\n",
    "# set symbols\n",
    "x, y = symbols('x y')\n",
    "\n",
    "# get grobner basis\n",
    "G = groebner([x*y - 1, y**2 - x], x, y, order='lex', domain='QQ') \n",
    "\n",
    "# types of domains:\n",
    "# QQ = rationals\n",
    "# GF(k) = finite field of k elements\n",
    "# GF(p, k, modulus=None, symmetric=True) = p^k\n",
    "\n",
    "# get the list of polynomials\n",
    "polys = list(G)\n",
    "\n",
    "# testing out some features\n",
    "f = x**2*y + y\n",
    "print(f'Does the ideal contain {f}?  {G.contains(f)}')\n",
    "print(f'What is the ideal mod {f}? {G.reduce(f)}')\n",
    "print(f'Is the ideal zero dimensional? {G.is_zero_dimensional}')"
   ]
  }
 ],
 "metadata": {
  "kernelspec": {
   "display_name": "Python 3",
   "language": "python",
   "name": "python3"
  },
  "language_info": {
   "codemirror_mode": {
    "name": "ipython",
    "version": 3
   },
   "file_extension": ".py",
   "mimetype": "text/x-python",
   "name": "python",
   "nbconvert_exporter": "python",
   "pygments_lexer": "ipython3",
   "version": "3.12.10"
  }
 },
 "nbformat": 4,
 "nbformat_minor": 5
}
